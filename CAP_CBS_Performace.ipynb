{
 "cells": [
  {
   "cell_type": "code",
   "execution_count": 2,
   "metadata": {},
   "outputs": [],
   "source": [
    "import pandas as pd\n",
    "import numpy as np\n",
    "pd.set_option('display.max_columns', 500)\n",
    "from pandas.tseries.offsets import MonthEnd\n",
    "from datetime import datetime"
   ]
  },
  {
   "attachments": {},
   "cell_type": "markdown",
   "metadata": {},
   "source": [
    "## read data"
   ]
  },
  {
   "cell_type": "code",
   "execution_count": 5,
   "metadata": {},
   "outputs": [],
   "source": [
    "df = pd.read_excel('DATA_CAP_CBS_Performace.xlsx')"
   ]
  },
  {
   "attachments": {},
   "cell_type": "markdown",
   "metadata": {},
   "source": [
    "## select data"
   ]
  },
  {
   "cell_type": "code",
   "execution_count": 3,
   "metadata": {},
   "outputs": [],
   "source": [
    "df_DQ_Housing = df[df['PROD_TYPE']==7100]\n",
    "df_DQ_secured = df[(df['PROD_TYPE']==7200)&(df['COLLATERAL_REQUIRED']==\"บัญชีสินเชื่อนี้มีหลักประกัน\")]\n",
    "df_DQ_Unsecured = df[(df['PROD_TYPE']==7200)&(df['COLLATERAL_REQUIRED']==\"บัญชีสินเชื่อนี้ไม่มีหลักประกัน\")]\n",
    "df_DQ_MSME = df[df['PROD_TYPE']==7500]"
   ]
  },
  {
   "attachments": {},
   "cell_type": "markdown",
   "metadata": {},
   "source": [
    "### ADD Data to Loop"
   ]
  },
  {
   "cell_type": "code",
   "execution_count": 7,
   "metadata": {},
   "outputs": [],
   "source": [
    "listDQ = ['DQ_202110','DQ_202111','DQ_202112','DQ_202201','DQ_202202','DQ_202203','DQ_202204','DQ_202205','DQ_202206','DQ_202207','DQ_202208','DQ_202209','DQ_202210','DQ_202211','DQ_202212']\n",
    "listOS = ['LEDGER_BALANCE_202110','LEDGER_BALANCE_202111','LEDGER_BALANCE_202112','LEDGER_BALANCE_202201','LEDGER_BALANCE_202202','LEDGER_BALANCE_202203','LEDGER_BALANCE_202204','LEDGER_BALANCE_202205','LEDGER_BALANCE_202206','LEDGER_BALANCE_202207','LEDGER_BALANCE_202208','LEDGER_BALANCE_202209','LEDGER_BALANCE_202210','LEDGER_BALANCE_202211','LEDGER_BALANCE_202212']\n"
   ]
  },
  {
   "attachments": {},
   "cell_type": "markdown",
   "metadata": {},
   "source": [
    "## Loop DQ Account"
   ]
  },
  {
   "cell_type": "code",
   "execution_count": 5,
   "metadata": {},
   "outputs": [],
   "source": [
    "#7100\n",
    "lists =[]\n",
    "for col in listDQ:\n",
    "    lists.append(df_DQ_Housing[col].value_counts())\n",
    "\n",
    "    DQ_Housing = pd.DataFrame(lists)\n",
    "for cols in DQ_Housing:\n",
    "            \n",
    "           DQ_Housing.rename({cols:cols+\"_Housing\"},axis=1,inplace = True)\n",
    "DQ_Housing = DQ_Housing.transpose()\n",
    "for cols2 in DQ_Housing:\n",
    "    DQ_Housing.rename({cols2:cols2[3:9]},axis=1,inplace = True)\n",
    "\n",
    "\n",
    "#7200 มีหลักประกัน\n",
    "lists =[]\n",
    "for col in listDQ:\n",
    "    lists.append(df_DQ_secured[col].value_counts())\n",
    "\n",
    "    DQ_secured = pd.DataFrame(lists)\n",
    "for cols in DQ_secured:\n",
    "            \n",
    "           DQ_secured.rename({cols:cols+\"_secured\"},axis=1,inplace = True)\n",
    "DQ_secured = DQ_secured.transpose()\n",
    "for cols2 in DQ_secured:\n",
    "    DQ_secured.rename({cols2:cols2[3:9]},axis=1,inplace = True)\n",
    "\n",
    "#7200 ไม่มีหลักประกัน\n",
    "lists =[]\n",
    "for col in listDQ:\n",
    "    lists.append(df_DQ_Unsecured[col].value_counts())\n",
    "\n",
    "    DQ_Unsecured = pd.DataFrame(lists)\n",
    "for cols in DQ_Unsecured:\n",
    "            \n",
    "           DQ_Unsecured.rename({cols:cols+\"_Unsecured\"},axis=1,inplace = True)\n",
    "DQ_Unsecured = DQ_Unsecured.transpose()\n",
    "for cols2 in DQ_Unsecured:\n",
    "    DQ_Unsecured.rename({cols2:cols2[3:9]},axis=1,inplace = True)\n",
    "\n",
    "#7500 \n",
    "lists =[]\n",
    "for col in listDQ:\n",
    "    lists.append(df_DQ_MSME[col].value_counts())\n",
    "\n",
    "    DQ_MSME = pd.DataFrame(lists)\n",
    "for cols in DQ_MSME:\n",
    "            \n",
    "           DQ_MSME.rename({cols:cols+\"_MSME\"},axis=1,inplace = True)\n",
    "DQ_MSME = DQ_MSME.transpose()\n",
    "for cols2 in DQ_MSME:\n",
    "    DQ_MSME.rename({cols2:cols2[3:9]},axis=1,inplace = True)\n",
    "\n",
    "\n"
   ]
  },
  {
   "attachments": {},
   "cell_type": "markdown",
   "metadata": {},
   "source": [
    "## Loop DQ OS"
   ]
  },
  {
   "cell_type": "code",
   "execution_count": 6,
   "metadata": {},
   "outputs": [],
   "source": [
    "HF_Balance = pd.DataFrame(index=['DQ_0', 'DQ_30','DQ_60','DQ_90','DQ_X'])\n",
    "SF_Balance = pd.DataFrame(index=['DQ_0', 'DQ_30','DQ_60','DQ_90','DQ_X'])\n",
    "UF_Balance = pd.DataFrame(index=['DQ_0', 'DQ_30','DQ_60','DQ_90','DQ_X'])\n",
    "MF_Balance = pd.DataFrame(index=['DQ_0', 'DQ_30','DQ_60','DQ_90','DQ_X'])\n",
    "\n",
    "#HF\n",
    "for col_B,col2_B in zip(listDQ,listOS):\n",
    "    HF_Balance = HF_Balance.join(df_DQ_Housing[[col_B,col2_B]].groupby(col_B).sum())\n",
    "for cols3_B in HF_Balance:\n",
    "       HF_Balance.rename({cols3_B:cols3_B[15:21]},axis=1,inplace = True)\n",
    "HF_Balance = HF_Balance.T\n",
    "for cols4_B in HF_Balance:    \n",
    "       HF_Balance.rename({cols4_B:cols4_B+'_HF_Balance'},axis=1,inplace = True)\n",
    "HF_Balance = HF_Balance.T    \n",
    "\n",
    "\n",
    "#SF\n",
    "for col_B,col2_B in zip(listDQ,listOS):\n",
    "    SF_Balance = SF_Balance.join(df_DQ_secured[[col_B,col2_B]].groupby(col_B).sum())\n",
    "for cols3_B in SF_Balance:\n",
    "       SF_Balance.rename({cols3_B:cols3_B[15:21]},axis=1,inplace = True)\n",
    "SF_Balance = SF_Balance.T\n",
    "for cols4_B in SF_Balance:    \n",
    "       SF_Balance.rename({cols4_B:cols4_B+'_SF_Balance'},axis=1,inplace = True)\n",
    "SF_Balance = SF_Balance.T   \n",
    "\n",
    "#UF\n",
    "for col_B,col2_B in zip(listDQ,listOS):\n",
    "    UF_Balance = UF_Balance.join(df_DQ_Unsecured[[col_B,col2_B]].groupby(col_B).sum())\n",
    "for cols3_B in UF_Balance:\n",
    "       UF_Balance.rename({cols3_B:cols3_B[15:21]},axis=1,inplace = True)\n",
    "UF_Balance = UF_Balance.T\n",
    "for cols4_B in UF_Balance:    \n",
    "       UF_Balance.rename({cols4_B:cols4_B+'_UF_Balance'},axis=1,inplace = True)\n",
    "UF_Balance = UF_Balance.T   \n",
    "\n",
    "#MF\n",
    "for col_B,col2_B in zip(listDQ,listOS):\n",
    "    MF_Balance = MF_Balance.join(df_DQ_MSME[[col_B,col2_B]].groupby(col_B).sum())\n",
    "for cols3_B in MF_Balance:\n",
    "       MF_Balance.rename({cols3_B:cols3_B[15:21]},axis=1,inplace = True)\n",
    "MF_Balance = MF_Balance.T\n",
    "for cols4_B in MF_Balance:    \n",
    "       MF_Balance.rename({cols4_B:cols4_B+'_MF_Balance'},axis=1,inplace = True)\n",
    "MF_Balance = MF_Balance.T   \n"
   ]
  },
  {
   "attachments": {},
   "cell_type": "markdown",
   "metadata": {},
   "source": [
    "### Loop LEDGER_BALANCE"
   ]
  },
  {
   "cell_type": "code",
   "execution_count": 7,
   "metadata": {},
   "outputs": [
    {
     "name": "stderr",
     "output_type": "stream",
     "text": [
      "<ipython-input-7-b272084f3314>:1: DeprecationWarning: The default dtype for empty Series will be 'object' instead of 'float64' in a future version. Specify a dtype explicitly to silence this warning.\n",
      "  Series = pd.Series()\n",
      "<ipython-input-7-b272084f3314>:2: DeprecationWarning: The default dtype for empty Series will be 'object' instead of 'float64' in a future version. Specify a dtype explicitly to silence this warning.\n",
      "  Series2 = pd.Series()\n",
      "<ipython-input-7-b272084f3314>:3: DeprecationWarning: The default dtype for empty Series will be 'object' instead of 'float64' in a future version. Specify a dtype explicitly to silence this warning.\n",
      "  Series3 = pd.Series()\n",
      "<ipython-input-7-b272084f3314>:4: DeprecationWarning: The default dtype for empty Series will be 'object' instead of 'float64' in a future version. Specify a dtype explicitly to silence this warning.\n",
      "  Series4 = pd.Series()\n"
     ]
    }
   ],
   "source": [
    "Series = pd.Series()\n",
    "Series2 = pd.Series()\n",
    "Series3 = pd.Series()\n",
    "Series4 = pd.Series()\n",
    "#7100\n",
    "for col in listOS:\n",
    "     OS_SUM = (df_DQ_Housing[[col]].sum())\n",
    "     Series = Series.append(OS_SUM)\n",
    "OS_Housing = pd.DataFrame(Series).T\n",
    "for cols2 in OS_Housing:\n",
    "    OS_Housing.rename({cols2:cols2[15:21]},axis=1,inplace = True)\n",
    "OS_Housing = OS_Housing.rename(index={0:'OS_Housing'})\n",
    "\n",
    "#7200 มีหลักประกัน\n",
    "for col in listOS:\n",
    "     OS_SUM = (df_DQ_secured[[col]].sum())\n",
    "     Series2 = Series2.append(OS_SUM)\n",
    "OS_secured = pd.DataFrame(Series2).T\n",
    "for cols2 in OS_secured:\n",
    "    OS_secured.rename({cols2:cols2[15:21]},axis=1,inplace = True)\n",
    "OS_secured = OS_secured.rename(index={0:'OS_secured'})\n",
    "\n",
    "#7200 ไม่มีหลักประกัน\n",
    "\n",
    "for col in listOS:\n",
    "     OS_SUM = (df_DQ_Unsecured[[col]].sum())\n",
    "     Series3 = Series3.append(OS_SUM)\n",
    "OS_Unsecured = pd.DataFrame(Series3).T\n",
    "for cols2 in OS_Unsecured:\n",
    "    OS_Unsecured.rename({cols2:cols2[15:21]},axis=1,inplace = True)\n",
    "OS_Unsecured = OS_Unsecured.rename(index={0:'OS_Unsecured'})\n",
    "\n",
    "#7500 \n",
    "\n",
    "for col in listOS:\n",
    "     OS_SUM = (df_DQ_MSME[[col]].sum())\n",
    "     Series4 = Series4.append(OS_SUM)\n",
    "OS_MSME = pd.DataFrame(Series4).T\n",
    "for cols2 in OS_MSME:\n",
    "    OS_MSME.rename({cols2:cols2[15:21]},axis=1,inplace = True)\n",
    "OS_MSME = OS_MSME.rename(index={0:'OS_MSME'})\n",
    "\n",
    "     \n",
    "    \n",
    "   "
   ]
  },
  {
   "attachments": {},
   "cell_type": "markdown",
   "metadata": {},
   "source": [
    "### concat ALL"
   ]
  },
  {
   "cell_type": "code",
   "execution_count": 86,
   "metadata": {},
   "outputs": [],
   "source": [
    "DQ_all = pd.concat([DQ_Housing,DQ_secured,DQ_Unsecured,DQ_MSME,HF_Balance,SF_Balance,UF_Balance,MF_Balance,OS_Housing,OS_secured,OS_Unsecured,OS_MSME])"
   ]
  },
  {
   "attachments": {},
   "cell_type": "markdown",
   "metadata": {},
   "source": [
    "### Format date"
   ]
  },
  {
   "cell_type": "code",
   "execution_count": 87,
   "metadata": {},
   "outputs": [],
   "source": [
    "##Format date\n",
    "for col_date,date in zip(DQ_all,DQ_all):\n",
    "    date = date[4:6] +\"/\" + date[0:4]\n",
    "    date = pd.to_datetime(date)\n",
    "    date = date+ MonthEnd(1)\n",
    "    date = str(date)\n",
    "    date = datetime.strptime(date, \"%Y-%m-%d %H:%M:%S\").strftime(\"%d/%m/%Y\")\n",
    "    DQ_all.rename({col_date:date},axis=1,inplace = True)"
   ]
  },
  {
   "attachments": {},
   "cell_type": "markdown",
   "metadata": {},
   "source": [
    "### Export"
   ]
  },
  {
   "cell_type": "code",
   "execution_count": 88,
   "metadata": {},
   "outputs": [],
   "source": [
    "DQ_all.to_csv('DQ_performance.csv')"
   ]
  }
 ],
 "metadata": {
  "kernelspec": {
   "display_name": "base",
   "language": "python",
   "name": "python3"
  },
  "language_info": {
   "codemirror_mode": {
    "name": "ipython",
    "version": 3
   },
   "file_extension": ".py",
   "mimetype": "text/x-python",
   "name": "python",
   "nbconvert_exporter": "python",
   "pygments_lexer": "ipython3",
   "version": "3.8.5"
  },
  "orig_nbformat": 4,
  "vscode": {
   "interpreter": {
    "hash": "d248d81b95f9250ff816b17655d967de6c78c447d7696d2d6c6c6a06d3dff538"
   }
  }
 },
 "nbformat": 4,
 "nbformat_minor": 2
}
